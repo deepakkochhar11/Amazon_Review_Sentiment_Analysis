{
 "cells": [
  {
   "cell_type": "code",
   "execution_count": 1,
   "metadata": {
    "collapsed": true
   },
   "outputs": [],
   "source": [
    "from sklearn.externals import joblib\n",
    "\n",
    "import pandas as pd, numpy as np\n",
    "from sklearn.linear_model import LogisticRegression\n",
    "from sklearn.feature_extraction.text import TfidfVectorizer\n",
    "from sklearn.linear_model import LogisticRegression\n",
    "\n",
    "from scipy import sparse\n",
    "import gzip, re, string\n",
    "\n",
    "import warnings\n",
    "warnings.filterwarnings('ignore')\n",
    "\n",
    "if __name__ == \"__main__\":\n",
    "    \n",
    "    def parse(path):\n",
    "        g = gzip.open(path, 'rb')\n",
    "        for l in g:\n",
    "                yield eval(l)\n",
    "\n",
    "    def getDF(path):\n",
    "        i = 0\n",
    "        df = {}\n",
    "        for d in parse(path):\n",
    "                df[i] = d\n",
    "                i += 1\n",
    "        return pd.DataFrame.from_dict(df, orient='index')\n",
    "    \n",
    "    def pr(x, y_i, y):\n",
    "        p = x[y==y_i].sum(0)\n",
    "        return (p+1) / ((y==y_i).sum()+1)\n",
    "\n",
    "    df = getDF('reviews_Digital_Music_5.json.gz')\n",
    "    df['reviewText'].fillna(\"unknown\", inplace=True)\n",
    "\n",
    "    treated_text = []\n",
    "    for index, row in df.iterrows():\n",
    "        treated_text.append(re.compile(f'([{string.punctuation}“”¨«»®´·º½¾¿¡§£₤‘’])').sub(r' \\1 ', row['reviewText']))\n",
    "    \n",
    "    vec = TfidfVectorizer(ngram_range=(1,2),\n",
    "            min_df=3, max_df=0.9, strip_accents='unicode', use_idf=1,\n",
    "            smooth_idf=1, sublinear_tf=1 )\n",
    "    x = vec.fit_transform(treated_text)\n",
    "    y = (df['overall'] > 3).astype(float).values\n",
    "    \n",
    "    r = sparse.csr_matrix(np.log(pr(x,1,y) / pr(x,0,y)))\n",
    "    clf = LogisticRegression(C = 10, dual=True, penalty = \"l2\", n_jobs = -1)\n",
    "    x_nb = x.multiply(r)\n",
    "    clf.fit(x_nb, y)"
   ]
  },
  {
   "cell_type": "code",
   "execution_count": 2,
   "metadata": {
    "collapsed": true
   },
   "outputs": [],
   "source": [
    "a = \"It appears the “old Taylor” can come to the phone after all. For anyone hoping for a more conventional Taylor Swift single from her forthcoming sixth album, “Reputation,” the third time's the charm, as “Gorgeous” finally provides some of the conventional pleasures that only a pop song about falling deeply in crush can.\""
   ]
  },
  {
   "cell_type": "code",
   "execution_count": 3,
   "metadata": {
    "collapsed": true
   },
   "outputs": [],
   "source": [
    "review = re.compile(f'([{string.punctuation}“”¨«»®´·º½¾¿¡§£₤‘’])').sub(r' \\1 ', a)\n",
    "review = vec.transform([review])\n",
    "my_prediction = clf.predict(review.multiply(r))"
   ]
  },
  {
   "cell_type": "code",
   "execution_count": 7,
   "metadata": {},
   "outputs": [
    {
     "data": {
      "text/plain": [
       "array([ 1.])"
      ]
     },
     "execution_count": 7,
     "metadata": {},
     "output_type": "execute_result"
    }
   ],
   "source": [
    "my_prediction"
   ]
  },
  {
   "cell_type": "code",
   "execution_count": 8,
   "metadata": {},
   "outputs": [
    {
     "data": {
      "text/plain": [
       "1"
      ]
     },
     "execution_count": 8,
     "metadata": {},
     "output_type": "execute_result"
    }
   ],
   "source": [
    "int(my_prediction[0])"
   ]
  },
  {
   "cell_type": "code",
   "execution_count": 13,
   "metadata": {},
   "outputs": [
    {
     "data": {
      "text/plain": [
       "array([[ 0.06320946,  0.93679054]])"
      ]
     },
     "execution_count": 13,
     "metadata": {},
     "output_type": "execute_result"
    }
   ],
   "source": [
    "clf.predict_proba(review.multiply(r))"
   ]
  },
  {
   "cell_type": "code",
   "execution_count": 24,
   "metadata": {
    "collapsed": true
   },
   "outputs": [],
   "source": [
    "b = \"very bad. I hate it\""
   ]
  },
  {
   "cell_type": "code",
   "execution_count": 26,
   "metadata": {},
   "outputs": [],
   "source": [
    "review = re.compile(f'([{string.punctuation}“”¨«»®´·º½¾¿¡§£₤‘’])').sub(r' \\1 ', b)\n",
    "review = vec.transform([review])\n",
    "my_prediction = clf.predict(review.multiply(r))"
   ]
  },
  {
   "cell_type": "code",
   "execution_count": 27,
   "metadata": {},
   "outputs": [
    {
     "data": {
      "text/plain": [
       "array([ 0.])"
      ]
     },
     "execution_count": 27,
     "metadata": {},
     "output_type": "execute_result"
    }
   ],
   "source": [
    "my_prediction"
   ]
  },
  {
   "cell_type": "code",
   "execution_count": 28,
   "metadata": {},
   "outputs": [],
   "source": [
    "my_proba = clf.predict_proba(review.multiply(r))"
   ]
  },
  {
   "cell_type": "code",
   "execution_count": 29,
   "metadata": {},
   "outputs": [
    {
     "data": {
      "text/plain": [
       "array([ 0.58347723,  0.41652277])"
      ]
     },
     "execution_count": 29,
     "metadata": {},
     "output_type": "execute_result"
    }
   ],
   "source": [
    "my_proba[0]"
   ]
  },
  {
   "cell_type": "code",
   "execution_count": 34,
   "metadata": {},
   "outputs": [
    {
     "data": {
      "text/plain": [
       "'In high school \"Stroke You Up\" was the jam, so I went downtown and bought the cassette. Let me tell you something: It took me 2 days to listen to it because it was utterly boring. Even \"Stroke You Up\" became unbearable to listen to. No funk, no groove- just lukewarm soul. That was the first *and* the last time I listened to \"Changing Faces.\" The two chicks who made up \"Changing Faces\" had airy, monotonous vocals- no edge to their voices at all. Even the album cover looked boring. These chicks had no style or any type of pizzazz at all. Skip this at all costs and get Zhane.'"
      ]
     },
     "execution_count": 34,
     "metadata": {},
     "output_type": "execute_result"
    }
   ],
   "source": [
    "df.loc[30, 'reviewText']"
   ]
  },
  {
   "cell_type": "code",
   "execution_count": 35,
   "metadata": {},
   "outputs": [
    {
     "data": {
      "text/plain": [
       "30       In high school \"Stroke You Up\" was the jam, so...\n",
       "86       I never understood what's the BIG deal behind ...\n",
       "94       It's now very well known that the labelling on...\n",
       "95       I am very disapointed! After looking for this ...\n",
       "167      I love the Beach Boys as much as anyone.  Let ...\n",
       "382      As a child and young adult when I tended to be...\n",
       "427      The commercial failure of KRS1s didactic venom...\n",
       "690      Before I get any hate mail, I would like to st...\n",
       "695      It's amazing how these guys keep fooling peopl...\n",
       "696      Talent-Less in every sense of the word.The mus...\n",
       "700      I'm not gonna say that I expected better of th...\n",
       "807      This band is truly terrible. First off, the mu...\n",
       "808      Punk has had a long and proud tradition of bei...\n",
       "938      Apparently, a lot of modern young musicians ha...\n",
       "1063     I don't know. I loved EC and I loved country.....\n",
       "1137     This is my 2nd time out for Baez's second albu...\n",
       "1166     Fantastic Voyage is the only good song on this...\n",
       "1174     Because suckers by it, quickly get bored by it...\n",
       "1179     In an age of \"boom boom\" dance music and overb...\n",
       "1188     Very generic. No soul. No substance. No life. ...\n",
       "1190     You really have the impression somehow that sh...\n",
       "1193     if you read any of my other reviews you will h...\n",
       "1335     This review refers to the 180g vinyl edition ,...\n",
       "1348     Please, somebody tell me what sort of \"trail\" ...\n",
       "1453     When \"Here I Go Again\" comes on the radio, i a...\n",
       "1469     Altoough the musicians involved in this album ...\n",
       "1471     How bad is this. During the late 80s the whole...\n",
       "1543     Together with the other guys in Eagles, Don He...\n",
       "1583     As usual with Audio Fidelity releases the soun...\n",
       "1632     Walked into my favourite record shop to see wh...\n",
       "                               ...                        \n",
       "64157    Was sort of looking forward to her new one, bu...\n",
       "64158    nothing special of course. just like her other...\n",
       "64159    You get almost nothing on this and the song is...\n",
       "64173    Katy Perry's \"Roar\" is nothing of a roar. It's...\n",
       "64188    This is obnoxious drivel, just like the rest o...\n",
       "64192    As far as top ten pop chanteuses go Katy Perry...\n",
       "64216    SO the song sucks, anyone with musical taste k...\n",
       "64217    I do not like this &#34;musician&#34; and cert...\n",
       "64228    Is it just me or does this song = \"Somebody I ...\n",
       "64306    Thank heavens for amazon having the sample aud...\n",
       "64322    It's really plain awful. Brrrr...I am a Britne...\n",
       "64332    First, Gangnam Style, then Thrift Shop, then H...\n",
       "64333    All these rave reviews.... come on we all know...\n",
       "64435    Disappointed this is the next single since it'...\n",
       "64442    First roar & now this stinking up the airwaves...\n",
       "64446    I'm not sure how this collaboration happened b...\n",
       "64448    Unnecessary rap segments...The rapping in this...\n",
       "64457    Such a poor song with bad vocals and bad lyric...\n",
       "64466    She just tries to hard to sound like whatever ...\n",
       "64468    More Christmas Music?  Why would I order Chris...\n",
       "64476    hello,we all enjoy carole king songs...but, th...\n",
       "64477    I have loved her music since the 70's, but whe...\n",
       "64497    there just isn't anything memorable here in te...\n",
       "64513    I already have this on Amazon Cloud.  Please r...\n",
       "64574    Christmas Music again!  Why would i order a gr...\n",
       "64593    I see Lil Jon hasn't changed a bit. Still shou...\n",
       "64594    I stupidly only listened to the sample of this...\n",
       "64613        Horrible  Quilty  can  hardy  hear  it  !!!!!\n",
       "64625    Honestly, this whole folk-pop wave is getting ...\n",
       "64705    Magic! is a Canadian band that incorporates re...\n",
       "Name: reviewText, Length: 2791, dtype: object"
      ]
     },
     "execution_count": 35,
     "metadata": {},
     "output_type": "execute_result"
    }
   ],
   "source": [
    "df.loc[df['overall'] == 1, 'reviewText']"
   ]
  },
  {
   "cell_type": "code",
   "execution_count": null,
   "metadata": {
    "collapsed": true
   },
   "outputs": [],
   "source": []
  }
 ],
 "metadata": {
  "kernelspec": {
   "display_name": "Python [conda env:myenv]",
   "language": "python",
   "name": "conda-env-myenv-py"
  },
  "language_info": {
   "codemirror_mode": {
    "name": "ipython",
    "version": 3
   },
   "file_extension": ".py",
   "mimetype": "text/x-python",
   "name": "python",
   "nbconvert_exporter": "python",
   "pygments_lexer": "ipython3",
   "version": "3.6.2"
  }
 },
 "nbformat": 4,
 "nbformat_minor": 2
}
