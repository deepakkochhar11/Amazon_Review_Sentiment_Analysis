{
 "cells": [
  {
   "cell_type": "markdown",
   "metadata": {},
   "source": [
    "## Clean text firstly and then vectorize, test if accuracy is maintained"
   ]
  },
  {
   "cell_type": "code",
   "execution_count": 95,
   "metadata": {
    "collapsed": true
   },
   "outputs": [],
   "source": [
    "import pandas as pd, numpy as np\n",
    "from sklearn.linear_model import LogisticRegression\n",
    "from sklearn.feature_extraction.text import CountVectorizer, TfidfVectorizer\n",
    "from sklearn.model_selection import train_test_split\n",
    "from sklearn.utils.validation import check_X_y, check_is_fitted\n",
    "from sklearn.linear_model import LogisticRegression\n",
    "from sklearn.base import BaseEstimator, ClassifierMixin\n",
    "from sklearn.metrics import accuracy_score, classification_report, confusion_matrix\n",
    "from sklearn.externals import joblib\n",
    "from scipy import sparse\n",
    "import gzip, re, string\n",
    "\n",
    "import warnings\n",
    "warnings.filterwarnings('ignore')"
   ]
  },
  {
   "cell_type": "code",
   "execution_count": 96,
   "metadata": {
    "collapsed": true
   },
   "outputs": [],
   "source": [
    "def parse(path):\n",
    "    g = gzip.open(path, 'rb')\n",
    "    for l in g:\n",
    "        yield eval(l)"
   ]
  },
  {
   "cell_type": "code",
   "execution_count": 97,
   "metadata": {
    "collapsed": true
   },
   "outputs": [],
   "source": [
    "def getDF(path):\n",
    "    i = 0\n",
    "    df = {}\n",
    "    for d in parse(path):\n",
    "        df[i] = d\n",
    "        i += 1\n",
    "    return pd.DataFrame.from_dict(df, orient='index')"
   ]
  },
  {
   "cell_type": "code",
   "execution_count": 98,
   "metadata": {
    "collapsed": true
   },
   "outputs": [],
   "source": [
    "\n",
    "\n",
    "def pr(x, y_i, y):\n",
    "    p = x[y==y_i].sum(0)\n",
    "    return (p+1) / ((y==y_i).sum()+1)"
   ]
  },
  {
   "cell_type": "code",
   "execution_count": 99,
   "metadata": {
    "collapsed": true
   },
   "outputs": [],
   "source": [
    "df = getDF('reviews_Digital_Music_5.json.gz')\n",
    "df['reviewText'].fillna(\"unknown\", inplace=True)"
   ]
  },
  {
   "cell_type": "code",
   "execution_count": 102,
   "metadata": {
    "collapsed": true
   },
   "outputs": [],
   "source": [
    "X = df.drop(['overall'], axis = 1)\n",
    "y = (df['overall'] > 3).astype(float)"
   ]
  },
  {
   "cell_type": "code",
   "execution_count": 103,
   "metadata": {
    "collapsed": true
   },
   "outputs": [],
   "source": [
    "X_train, X_test, y_train, y_test = train_test_split(X, y, random_state = 42)"
   ]
  },
  {
   "cell_type": "code",
   "execution_count": 105,
   "metadata": {
    "collapsed": true
   },
   "outputs": [],
   "source": [
    "texts = list(X_train['reviewText'])"
   ]
  },
  {
   "cell_type": "code",
   "execution_count": 106,
   "metadata": {},
   "outputs": [],
   "source": [
    "treated_text = []\n",
    "for text in texts:\n",
    "    treated_text.append(re.compile(f'([{string.punctuation}“”¨«»®´·º½¾¿¡§£₤‘’])').sub(r' \\1 ', text))"
   ]
  },
  {
   "cell_type": "code",
   "execution_count": 110,
   "metadata": {},
   "outputs": [
    {
     "data": {
      "text/plain": [
       "LogisticRegression(C=10, class_weight=None, dual=True, fit_intercept=True,\n",
       "          intercept_scaling=1, max_iter=100, multi_class='ovr', n_jobs=-1,\n",
       "          penalty='l2', random_state=None, solver='liblinear', tol=0.0001,\n",
       "          verbose=0, warm_start=False)"
      ]
     },
     "execution_count": 110,
     "metadata": {},
     "output_type": "execute_result"
    }
   ],
   "source": [
    "\n",
    "vec = TfidfVectorizer(ngram_range=(1,2),\n",
    "            min_df=3, max_df=0.9, strip_accents='unicode', use_idf=1,\n",
    "            smooth_idf=1, sublinear_tf=1 )\n",
    "x = vec.fit_transform(treated_text)\n",
    "y = y_train.values\n",
    "r = sparse.csr_matrix(np.log(pr(x,1,y) / pr(x,0,y)))\n",
    "clf = LogisticRegression(C = 10, dual=True, penalty = \"l2\", n_jobs = -1)\n",
    "x_nb = x.multiply(r)\n",
    "clf.fit(x_nb, y)\n",
    "    # clf.predict(x_test.multiply(r))\n"
   ]
  },
  {
   "cell_type": "code",
   "execution_count": 111,
   "metadata": {
    "collapsed": true
   },
   "outputs": [],
   "source": [
    "joblib.dump(clf, 'review_model.pkl')\n",
    "joblib.dump(vec, 'review_vector.pkl')\n",
    "sparse.save_npz('review_r.npz', r)\n"
   ]
  },
  {
   "cell_type": "code",
   "execution_count": 119,
   "metadata": {
    "collapsed": true
   },
   "outputs": [],
   "source": [
    "estimator = joblib.load('review_model.pkl')\n",
    "vec = joblib.load('review_vector.pkl')\n",
    "target_names = ['Negative', 'Positive']\n",
    "r = sparse.load_npz('review_r.npz')"
   ]
  },
  {
   "cell_type": "code",
   "execution_count": 113,
   "metadata": {},
   "outputs": [],
   "source": [
    "treated_text_test = []\n",
    "for text in list(X_test['reviewText']):\n",
    "    treated_text_test.append(re.compile(f'([{string.punctuation}“”¨«»®´·º½¾¿¡§£₤‘’])').sub(r' \\1 ', text))"
   ]
  },
  {
   "cell_type": "code",
   "execution_count": 120,
   "metadata": {
    "collapsed": true
   },
   "outputs": [],
   "source": [
    "## test accuracy of model\n",
    "review = vec.transform(treated_text_test)\n",
    "my_prediction = estimator.predict(review.multiply(r))"
   ]
  },
  {
   "cell_type": "code",
   "execution_count": 115,
   "metadata": {
    "collapsed": true
   },
   "outputs": [],
   "source": [
    "from sklearn.metrics import accuracy_score"
   ]
  },
  {
   "cell_type": "code",
   "execution_count": 121,
   "metadata": {},
   "outputs": [],
   "source": [
    "accuracy = accuracy_score(y_test, my_prediction)"
   ]
  },
  {
   "cell_type": "code",
   "execution_count": 122,
   "metadata": {},
   "outputs": [
    {
     "data": {
      "text/plain": [
       "0.88502194473635409"
      ]
     },
     "execution_count": 122,
     "metadata": {},
     "output_type": "execute_result"
    }
   ],
   "source": [
    "accuracy"
   ]
  },
  {
   "cell_type": "markdown",
   "metadata": {},
   "source": [
    "## Conclusion: Same accuracy as before. So apply re to clean text, then pickle model should work"
   ]
  },
  {
   "cell_type": "code",
   "execution_count": 129,
   "metadata": {},
   "outputs": [
    {
     "data": {
      "text/plain": [
       "\"Magic! is a Canadian band that incorporates reggae into their pop sound.  &#34;Rude&#34; (which is a play on rude boy) has your basic faceless pop band sound but with a reggae beat floating over the top.  Lead singer Nasri Atweh has written songs for the likes of Justin Bieber, Boyzone, Christina Aguilera and similar artists.  Think of those artists' songs but with a reggae beat instead of a pop beat and you have &#34;Rude&#34;.  If you like that cookie cutter pop sound, then you'll like &#34;Rude&#34;.  Clearly I'm in the minority on this one as the song has hit number one on the Billboard Hot 100.\""
      ]
     },
     "execution_count": 129,
     "metadata": {},
     "output_type": "execute_result"
    }
   ],
   "source": [
    "X.loc[64705]['reviewText']"
   ]
  },
  {
   "cell_type": "code",
   "execution_count": 128,
   "metadata": {},
   "outputs": [
    {
     "data": {
      "text/plain": [
       "0        5.0\n",
       "1        5.0\n",
       "2        5.0\n",
       "3        5.0\n",
       "4        4.0\n",
       "5        5.0\n",
       "6        3.0\n",
       "7        5.0\n",
       "8        5.0\n",
       "9        5.0\n",
       "10       5.0\n",
       "11       4.0\n",
       "12       5.0\n",
       "13       5.0\n",
       "14       4.0\n",
       "15       5.0\n",
       "16       5.0\n",
       "17       5.0\n",
       "18       4.0\n",
       "19       5.0\n",
       "20       5.0\n",
       "21       5.0\n",
       "22       5.0\n",
       "23       4.0\n",
       "24       5.0\n",
       "25       4.0\n",
       "26       5.0\n",
       "27       5.0\n",
       "28       3.0\n",
       "29       5.0\n",
       "        ... \n",
       "64676    5.0\n",
       "64677    5.0\n",
       "64678    2.0\n",
       "64679    2.0\n",
       "64680    2.0\n",
       "64681    5.0\n",
       "64682    5.0\n",
       "64683    4.0\n",
       "64684    4.0\n",
       "64685    5.0\n",
       "64686    5.0\n",
       "64687    5.0\n",
       "64688    4.0\n",
       "64689    5.0\n",
       "64690    2.0\n",
       "64691    5.0\n",
       "64692    5.0\n",
       "64693    4.0\n",
       "64694    5.0\n",
       "64695    5.0\n",
       "64696    5.0\n",
       "64697    4.0\n",
       "64698    5.0\n",
       "64699    3.0\n",
       "64700    4.0\n",
       "64701    4.0\n",
       "64702    5.0\n",
       "64703    5.0\n",
       "64704    3.0\n",
       "64705    1.0\n",
       "Name: overall, Length: 64706, dtype: float64"
      ]
     },
     "execution_count": 128,
     "metadata": {},
     "output_type": "execute_result"
    }
   ],
   "source": [
    "df['overall']"
   ]
  },
  {
   "cell_type": "code",
   "execution_count": null,
   "metadata": {
    "collapsed": true
   },
   "outputs": [],
   "source": []
  }
 ],
 "metadata": {
  "kernelspec": {
   "display_name": "Python 3",
   "language": "python",
   "name": "python3"
  },
  "language_info": {
   "codemirror_mode": {
    "name": "ipython",
    "version": 3
   },
   "file_extension": ".py",
   "mimetype": "text/x-python",
   "name": "python",
   "nbconvert_exporter": "python",
   "pygments_lexer": "ipython3",
   "version": "3.6.1"
  },
  "toc": {
   "nav_menu": {},
   "number_sections": true,
   "sideBar": true,
   "skip_h1_title": false,
   "toc_cell": false,
   "toc_position": {},
   "toc_section_display": "block",
   "toc_window_display": false
  }
 },
 "nbformat": 4,
 "nbformat_minor": 2
}
